{
 "cells": [
  {
   "cell_type": "code",
   "execution_count": 25,
   "metadata": {},
   "outputs": [],
   "source": [
    "import numpy as np\n",
    "import pandas as pd\n",
    "import pickle\n",
    "import matplotlib.pyplot as plt\n",
    "%matplotlib inline"
   ]
  },
  {
   "cell_type": "code",
   "execution_count": 2,
   "metadata": {},
   "outputs": [],
   "source": [
    "from sklearn import preprocessing\n",
    "from classifier import MaxCorrCoefClf"
   ]
  },
  {
   "cell_type": "code",
   "execution_count": 8,
   "metadata": {},
   "outputs": [],
   "source": [
    "np.random.seed(777)\n",
    "f_all = open('data/all_cells.p', 'rb')\n",
    "all_cells = pickle.load(f_all)"
   ]
  },
  {
   "cell_type": "code",
   "execution_count": 9,
   "metadata": {},
   "outputs": [],
   "source": [
    "vs_cells = [cell for cell in all_cells if cell.p_vs <= 0.05]\n",
    "ms_cells = [cell for cell in all_cells if cell.p_ms <= 0.05]"
   ]
  },
  {
   "cell_type": "code",
   "execution_count": 10,
   "metadata": {},
   "outputs": [
    {
     "name": "stdout",
     "output_type": "stream",
     "text": [
      "292\n",
      "135\n"
     ]
    }
   ],
   "source": [
    "print(len(vs_cells))\n",
    "print(len(ms_cells))"
   ]
  },
  {
   "cell_type": "code",
   "execution_count": 40,
   "metadata": {},
   "outputs": [],
   "source": [
    "def decoding_trial_processing(cells, start, end, cell_type):\n",
    "    x = np.empty((100, 0))\n",
    "    for cell in cells:\n",
    "        trials = cell.trials\n",
    "        if cell_type == 'visual':\n",
    "            trials.sort(key = lambda trial: trial.category)\n",
    "        elif cell_type == 'memory':\n",
    "            trials.sort(key = lambda trial: trial.response_recog)\n",
    "        cell_spike_rates = []\n",
    "        for trial in trials:\n",
    "            spike_rate = trial.win_spike_rate(start, end)\n",
    "            cell_spike_rates.append(spike_rate)\n",
    "        cell_spike_rates = np.matrix(cell_spike_rates).T\n",
    "        x = np.append(x, cell_spike_rates, axis=1)\n",
    "    x_scaled = preprocessing.scale(x)\n",
    "    y = np.empty((1,0))\n",
    "    if cell_type == 'visual':\n",
    "        for i in range(5):\n",
    "            y = np.append(y, np.repeat(i+1, 20))\n",
    "    elif cell_type == 'memory':\n",
    "        for i in range(2):\n",
    "            y = np.append(y, np.repeat(i+1, 50))\n",
    "\n",
    "    return x_scaled, y\n",
    "\n",
    "def get_sample_trials(x, y):\n",
    "    sample_index = np.random.choice(20, 10)\n",
    "    sample_trials = x[sample_index, :]\n",
    "    sample_labels = y[sample_index]\n",
    "    return sample_trials, sample_labels\n",
    "    \n",
    "def vs_decoding_model(x, y, iteration=50):\n",
    "    y_pred_all = np.empty((1,0))\n",
    "    y_test_all = np.empty((1,0))\n",
    "    for i in range(iteration):\n",
    "        for split in range(10):\n",
    "            x_sampled = np.empty((0, x.shape[1]))\n",
    "            y_sampled = np.empty((1, 0))\n",
    "            \n",
    "            for i in range(5):\n",
    "                start = i*20\n",
    "                end = (i+1)*20\n",
    "                x_temp = x[start:end,:]\n",
    "                y_temp = y[start:end]\n",
    "                sample_trials, sample_labels = get_sample_trials(x_temp, y_temp)\n",
    "                x_sampled = np.append(x_sampled, sample_trials, axis=0)\n",
    "                y_sampled = np.append(y_sampled, sample_labels)\n",
    "            \n",
    "            test_indexes = np.arange(5)*10 + i\n",
    "            train_indexes = np.delete(np.arange(50), test_indexes)\n",
    "            \n",
    "            x_train = x_sampled[train_indexes, :]\n",
    "            y_train = y_sampled[train_indexes]\n",
    "            x_test = x_sampled[test_indexes, :]\n",
    "            y_test = y_sampled[test_indexes]\n",
    "            \n",
    "            clf = MaxCorrCoefClf()\n",
    "            clf.fit(x_train.T, y_train)\n",
    "            y_pred = clf.predict(x_test.T)\n",
    "            y_pred_all = np.append(y_pred_all, y_pred)\n",
    "            y_test_all = np.append(y_test_all, y_test)\n",
    "    accuracy = np.mean(np.equal(y_pred_all, y_test_all))\n",
    "    return accuracy\n",
    "\n",
    "def decoding_over_time(vs_cells, bin_size, step_size, cell_type, time_range=(0, 4000)):\n",
    "    start = time_range[0]\n",
    "    end = start + bin_size\n",
    "    plot_step = bin_size/2\n",
    "    accuracies = []\n",
    "    x_plot = []\n",
    "    while end < time_range[1]:\n",
    "        x, y = decoding_trial_processing(vs_cells, start, end, cell_type)\n",
    "        accuracy = vs_decoding_model(x, y)\n",
    "        accuracies.append(accuracy)\n",
    "        x_plot.append(start + plot_step)\n",
    "        start = start + step_size\n",
    "        end = start + bin_size\n",
    "    return accuracies, x_plot\n",
    "\n",
    "def decoding_time_matrix(cells, bin_size, step_size, time_range(0, 4000)):\n",
    "    start = time_range[0]\n",
    "    end = start + bin_size\n",
    "    \n"
   ]
  },
  {
   "cell_type": "code",
   "execution_count": 43,
   "metadata": {},
   "outputs": [],
   "source": [
    "accuracies_vs, x_plot_vs = decoding_over_time(vs_cells, 500, 50, 'visual')\n",
    "#accuracies_ms, x_plot_ms = decoding_over_time(ms_cells, 500, 50, 'memory')"
   ]
  },
  {
   "cell_type": "code",
   "execution_count": 44,
   "metadata": {},
   "outputs": [
    {
     "data": {
      "text/plain": [
       "[<matplotlib.lines.Line2D at 0x1f529420cf8>]"
      ]
     },
     "execution_count": 44,
     "metadata": {},
     "output_type": "execute_result"
    },
    {
     "data": {
      "image/png": "[encoded data removed]",
      "text/plain": [
       "<Figure size 432x288 with 1 Axes>"
      ]
     },
     "metadata": {},
     "output_type": "display_data"
    }
   ],
   "source": [
    "plt.plot(x_plot_vs, accuracies_vs)\n",
    "#plt.plot(x_plot_ms, accuracies_ms)"
   ]
  },
  {
   "cell_type": "code",
   "execution_count": null,
   "metadata": {},
   "outputs": [],
   "source": []
  },
  {
   "cell_type": "code",
   "execution_count": null,
   "metadata": {},
   "outputs": [],
   "source": []
  }
 ],
 "metadata": {
  "kernelspec": {
   "display_name": "Python 3",
   "language": "python",
   "name": "python3"
  },
  "language_info": {
   "codemirror_mode": {
    "name": "ipython",
    "version": 3
   },
   "file_extension": ".py",
   "mimetype": "text/x-python",
   "name": "python",
   "nbconvert_exporter": "python",
   "pygments_lexer": "ipython3",
   "version": "3.6.5"
  }
 },
 "nbformat": 4,
 "nbformat_minor": 2
}
