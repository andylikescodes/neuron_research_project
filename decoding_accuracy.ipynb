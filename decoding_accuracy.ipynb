{
 "cells": [
  {
   "cell_type": "markdown",
   "metadata": {},
   "source": [
    "# A Decoding Accuracy Analysis For Visual Selective Cells"
   ]
  },
  {
   "cell_type": "markdown",
   "metadata": {},
   "source": [
    "## Project Description\n",
    "\n",
    "In this project, we would like to look at the decoding accuracy of the visual selective cells. All the visual selective cells are pooled together. There are in total 292 visual selective cells we found using the 1x5 Anova test under the criteria p < 0.05. \n",
    "\n",
    "The spike rates are extracted from each trial from each cell, a 100x292 matrix is created for training and testing."
   ]
  },
  {
   "cell_type": "markdown",
   "metadata": {},
   "source": [
    "### 1. Load necessary libraries"
   ]
  },
  {
   "cell_type": "code",
   "execution_count": 6,
   "metadata": {},
   "outputs": [],
   "source": [
    "import numpy as np\n",
    "import pandas as pd\n",
    "import pickle\n",
    "import matplotlib.pyplot as plt\n",
    "import seaborn as sns; sns.set()\n",
    "%matplotlib inline"
   ]
  },
  {
   "cell_type": "code",
   "execution_count": 7,
   "metadata": {},
   "outputs": [],
   "source": [
    "from sklearn import preprocessing\n",
    "from classifier import MaxCorrCoefClf\n",
    "from sklearn.model_selection import KFold"
   ]
  },
  {
   "cell_type": "markdown",
   "metadata": {},
   "source": [
    "### 2. Get cell data \n",
    "Read in saved cell data for all cellss and select the visual selective cells (VS) and memory selective cells (MS) based on their p values"
   ]
  },
  {
   "cell_type": "code",
   "execution_count": 8,
   "metadata": {},
   "outputs": [],
   "source": [
    "np.random.seed(777)\n",
    "f_all = open('data/all_cells.p', 'rb')\n",
    "all_cells = pickle.load(f_all)"
   ]
  },
  {
   "cell_type": "code",
   "execution_count": 9,
   "metadata": {},
   "outputs": [],
   "source": [
    "vs_cells = [cell for cell in all_cells if cell.p_vs <= 0.05]\n",
    "ms_cells = [cell for cell in all_cells if cell.p_ms <= 0.05]"
   ]
  },
  {
   "cell_type": "code",
   "execution_count": 10,
   "metadata": {},
   "outputs": [
    {
     "name": "stdout",
     "output_type": "stream",
     "text": [
      "292\n",
      "135\n"
     ]
    }
   ],
   "source": [
    "print(len(vs_cells))\n",
    "print(len(ms_cells))"
   ]
  },
  {
   "cell_type": "code",
   "execution_count": 11,
   "metadata": {},
   "outputs": [
    {
     "name": "stdout",
     "output_type": "stream",
     "text": [
      "5\n",
      "2\n",
      "2\n"
     ]
    }
   ],
   "source": [
    "print(vs_cells[0].session_nr)\n",
    "print(vs_cells[0].channel_nr)\n",
    "print(vs_cells[0].cluster_id)"
   ]
  },
  {
   "cell_type": "markdown",
   "metadata": {},
   "source": [
    "In total we have 292 VS cells and 135 MS cells"
   ]
  },
  {
   "cell_type": "markdown",
   "metadata": {},
   "source": [
    "### 3. Decoding accuracy"
   ]
  },
  {
   "cell_type": "code",
   "execution_count": 39,
   "metadata": {},
   "outputs": [],
   "source": [
    "def decoding_trial_processing(cells, start, end, cell_type):\n",
    "    \"\"\"\n",
    "    This function is to extract the spike count rate from a specify time window. The output is sorted by category.\n",
    "    :param cells: a list of cell objects\n",
    "    :param start: the start time of the window\n",
    "    :param end: the end time of the window\n",
    "    :param cell_type: the type of the cell we want to extract the spike rate at\n",
    "    :return x_scaled: the z scored spike count rates for each trials\n",
    "    :return y: the label\n",
    "    \"\"\"\n",
    "    x = np.empty((100, 0))\n",
    "    for cell in cells:\n",
    "        trials = cell.trials\n",
    "        if cell_type == 'visual':\n",
    "            trials.sort(key = lambda trial: trial.category)\n",
    "        elif cell_type == 'memory':\n",
    "            trials.sort(key = lambda trial: trial.response_recog)\n",
    "        cell_spike_rates = []\n",
    "        for trial in trials:\n",
    "            spike_rate = trial.win_spike_rate(start, end)\n",
    "            cell_spike_rates.append(spike_rate)\n",
    "        cell_spike_rates = np.matrix(cell_spike_rates).T\n",
    "        x = np.append(x, cell_spike_rates, axis=1)\n",
    "    x_scaled = preprocessing.scale(x)\n",
    "    y = np.empty((1,0))\n",
    "    if cell_type == 'visual':\n",
    "        for i in range(5):\n",
    "            y = np.append(y, np.repeat(i+1, 20))\n",
    "    elif cell_type == 'memory':\n",
    "        y = np.array([trial.response_recog for trial in trials]) > 3\n",
    "        print(len(y[y==1]))\n",
    "        print(len(y[y==0]))\n",
    "        x_scaled, y = ms_balanced_sample(x_scaled, y)\n",
    "\n",
    "    return x_scaled, y\n",
    "\n",
    "def get_sample_trials(x, y):\n",
    "    \"\"\"\n",
    "    A function to generate 10 random sample from 20 trials.\n",
    "    :param x: The original feature matrix (20 x 292)\n",
    "    :param y: The original labels (1 x 20)\n",
    "    :return sample_trials: A random sample of the feature matrix with size 10 (10 x 292)\n",
    "    :return sample_labels: A random sample of the labels associated with the feature matrix\n",
    "    \"\"\" \n",
    "    sample_index = np.random.choice(20, 10, replace=False)\n",
    "    sample_trials = x[sample_index, :]\n",
    "    sample_labels = y[sample_index]\n",
    "    return sample_trials, sample_labels\n",
    "    \n",
    "def vs_decoding_model(x, y, iteration=50):\n",
    "    \"\"\"\n",
    "    This function is the model to see how well the spike rate can be decoded.\n",
    "    :param x: The feature matrix with all spike rates of all trials (100 x 292)\n",
    "    :param y: The label associated with the feature matrix x (1 x 100)\n",
    "    :param iteration: The number of iterations that the classification is done.\n",
    "    :return accuracy: The accuracy score for decoding averaging all iterations and splits.\n",
    "    \"\"\"\n",
    "    y_pred_all = np.empty((1,0))\n",
    "    y_test_all = np.empty((1,0))\n",
    "    for i in range(iteration):\n",
    "        x_sampled = np.empty((0, x.shape[1]))\n",
    "        y_sampled = np.empty((1, 0))\n",
    "\n",
    "        for i in range(5):\n",
    "            start = i*20\n",
    "            end = (i+1)*20\n",
    "            x_temp = x[start:end,:]\n",
    "            y_temp = y[start:end]\n",
    "            sample_trials, sample_labels = get_sample_trials(x_temp, y_temp)\n",
    "            x_sampled = np.append(x_sampled, sample_trials, axis=0)\n",
    "            y_sampled = np.append(y_sampled, sample_labels)\n",
    "#         for split in range(10):\n",
    "#             test_indexes = np.arange(5)*10 + split\n",
    "#             train_indexes = np.delete(np.arange(50), test_indexes)\n",
    "            \n",
    "#             x_train = x_sampled[train_indexes, :]\n",
    "#             y_train = y_sampled[train_indexes]\n",
    "#             x_test = x_sampled[test_indexes, :]\n",
    "#             y_test = y_sampled[test_indexes]\n",
    "#             clf = MaxCorrCoefClf()\n",
    "#             clf.fit(x_train.T, y_train)\n",
    "#             y_pred = clf.predict(x_test.T)\n",
    "#             y_pred_all = np.append(y_pred_all, y_pred)\n",
    "#             y_test_all = np.append(y_test_all, y_test)\n",
    "        kf = KFold(n_splits=10, shuffle=True)\n",
    "        for train_index, test_index in kf.split(x_sampled):\n",
    "            x_train, x_test = x_sampled[train_index], x_sampled[test_index]\n",
    "            y_train, y_test = y[train_index], y[test_index]\n",
    "            clf = MaxCorrCoefClf()\n",
    "            clf.fit(x_train.T, y_train)\n",
    "            y_pred = clf.predict(x_test.T)\n",
    "            y_pred_all = np.append(y_pred_all, y_pred)\n",
    "            y_test_all = np.append(y_test_all, y_test)\n",
    "    accuracy = np.mean(np.equal(y_pred_all, y_test_all))\n",
    "    return accuracy\n",
    "\n",
    "def decoding_simple_cv(x, y):\n",
    "    y_pred_all = []\n",
    "    y_test_all = []\n",
    "    kf = KFold(n_splits=10)\n",
    "    for train_index, test_index in kf.split(x):\n",
    "        x_train, x_test = x[train_index], x[test_index]\n",
    "        y_train, y_test = y[train_index], y[test_index]\n",
    "        clf = MaxCorrCoefClf()\n",
    "        clf.fit(x_train.T, y_train)\n",
    "        y_pred = clf.predict(x_test.T)\n",
    "        y_pred_all = np.append(y_pred_all, y_pred)\n",
    "        y_test_all = np.append(y_test_all, y_test)\n",
    "    return np.mean(np.equal(y_pred_all, y_test_all))\n",
    "\n",
    "def ms_balanced_sample(x, y):\n",
    "    x_new = x[y==0]\n",
    "    x_old = x[y==1]\n",
    "    y_new = y[y==0]\n",
    "    y_old = y[y==1]\n",
    "    n_old = np.sum(y==1)\n",
    "    n_new = np.sum(y==0)\n",
    "    if n_old <= n_new:\n",
    "        indexes = np.random.choice(n_new, n_old, replace=False)\n",
    "        x_new = x_new[indexes]\n",
    "        y_new = y_new[indexes]\n",
    "    elif n_old > n_new:\n",
    "        indexes = np.random.choice(n_old, n_new, replace=False)\n",
    "        x_old = x_old[indexes]\n",
    "        y_old = y_old[indexes]\n",
    "    x = np.vstack([x_new, x_old])\n",
    "    y = np.append(y_new, y_old)\n",
    "    return x, y\n",
    "\n",
    "\n",
    "def decoding_over_time(cells, bin_size, step_size, cell_type, model, time_range=(0, 4000)):\n",
    "    \"\"\"\n",
    "    The function to get the accuracy over the time of trials.\n",
    "    :param vs_cells: The cells that we want to decode.\n",
    "    :param bin_size: The size of the time window that we extract the spike rate from.\n",
    "    :param step_size: The size that the window more forward each time.\n",
    "    :param cell_type: The type of cells 'visual' or 'memory' that we are running this at. (Not finished yet)\n",
    "    :param time_range: The time course that the analysis starts and ends\n",
    "    :return accuracies: The accuracies accross the time course.\n",
    "    :return x_plot: The x value for plotting the accuracy.\n",
    "    \"\"\" \n",
    "    start = time_range[0]\n",
    "    end = start + bin_size\n",
    "    plot_step = bin_size/2\n",
    "    accuracies = []\n",
    "    x_plot = []\n",
    "    while end < time_range[1]:\n",
    "        x, y = decoding_trial_processing(cells, start, end, cell_type)\n",
    "        accuracy = model(x, y)\n",
    "        accuracies.append(accuracy)\n",
    "        x_plot.append(start + plot_step)\n",
    "        start = start + step_size\n",
    "        end = start + bin_size\n",
    "    return accuracies, x_plot\n",
    "\n",
    "def decoding_time_matrix(cells, bin_size, step_size, time_range=(0, 4000)):\n",
    "    \"\"\"\n",
    "    This function is used to get the accuracy matrix when we want to use the spike rate of a time frame to decode the spike \n",
    "    rate in another time frame. The output of this matrix can be plotted in a heatmap to see how the decoding accuracy is\n",
    "    correlated over time.\n",
    "    :param cells: The cells that carries the data.\n",
    "    :param bin_size: The bin size that the spike is generated from.\n",
    "    :param step_size: The size of steps the window move forward each time.\n",
    "    :param time_range: The time range of the entire analysis.\n",
    "    :return accuracy_matrix: The accuracy matrix stores the accuracy for all the time bins when training on their spike rates\n",
    "                             and testing on the other time bins.\n",
    "    \"\"\"\n",
    "    start = time_range[0]\n",
    "    end = start + bin_size\n",
    "    \n",
    "    clf = MaxCorrCoefClf()\n",
    "    accuracy_matrix = []\n",
    "    while end < time_range[1]:\n",
    "        x_train, y_train = decoding_trial_processing(cells, start, end, cell_type='visual')\n",
    "        test_start = time_range[0]\n",
    "        test_end = test_start + bin_size\n",
    "        clf.fit(x_train.T, y_train)\n",
    "        accuracies = []\n",
    "        while test_end < time_range[1]:\n",
    "            x_test, y_test  = decoding_trial_processing(cells, test_start, test_end, cell_type='visual')\n",
    "            y_pred = clf.predict(x_test.T)\n",
    "            accuracy = np.mean(np.equal(y_pred, y_test))\n",
    "            accuracies.append(accuracy)\n",
    "            test_start = test_start + step_size\n",
    "            test_end = test_start + bin_size\n",
    "        accuracy_matrix.append(accuracies)\n",
    "        start = start + step_size\n",
    "        end = start + bin_size\n",
    "    return np.array(accuracy_matrix)\n",
    "    "
   ]
  },
  {
   "cell_type": "markdown",
   "metadata": {},
   "source": [
    "### 3a. 500 bin size and 50 step size"
   ]
  },
  {
   "cell_type": "code",
   "execution_count": 8,
   "metadata": {},
   "outputs": [
    {
     "ename": "KeyboardInterrupt",
     "evalue": "",
     "output_type": "error",
     "traceback": [
      "\u001b[1;31m---------------------------------------------------------------------------\u001b[0m",
      "\u001b[1;31mKeyboardInterrupt\u001b[0m                         Traceback (most recent call last)",
      "\u001b[1;32m<ipython-input-8-3a9dac96e0b4>\u001b[0m in \u001b[0;36m<module>\u001b[1;34m()\u001b[0m\n\u001b[1;32m----> 1\u001b[1;33m \u001b[0maccuracy_matrix\u001b[0m \u001b[1;33m=\u001b[0m \u001b[0mdecoding_time_matrix\u001b[0m\u001b[1;33m(\u001b[0m\u001b[0mvs_cells\u001b[0m\u001b[1;33m,\u001b[0m \u001b[1;36m500\u001b[0m\u001b[1;33m,\u001b[0m \u001b[1;36m50\u001b[0m\u001b[1;33m)\u001b[0m\u001b[1;33m\u001b[0m\u001b[0m\n\u001b[0m",
      "\u001b[1;32m<ipython-input-7-80c7370b27c1>\u001b[0m in \u001b[0;36mdecoding_time_matrix\u001b[1;34m(cells, bin_size, step_size, time_range)\u001b[0m\n\u001b[0;32m    135\u001b[0m         \u001b[0maccuracies\u001b[0m \u001b[1;33m=\u001b[0m \u001b[1;33m[\u001b[0m\u001b[1;33m]\u001b[0m\u001b[1;33m\u001b[0m\u001b[0m\n\u001b[0;32m    136\u001b[0m         \u001b[1;32mwhile\u001b[0m \u001b[0mtest_end\u001b[0m \u001b[1;33m<\u001b[0m \u001b[0mtime_range\u001b[0m\u001b[1;33m[\u001b[0m\u001b[1;36m1\u001b[0m\u001b[1;33m]\u001b[0m\u001b[1;33m:\u001b[0m\u001b[1;33m\u001b[0m\u001b[0m\n\u001b[1;32m--> 137\u001b[1;33m             \u001b[0mx_test\u001b[0m\u001b[1;33m,\u001b[0m \u001b[0my_test\u001b[0m  \u001b[1;33m=\u001b[0m \u001b[0mdecoding_trial_processing\u001b[0m\u001b[1;33m(\u001b[0m\u001b[0mcells\u001b[0m\u001b[1;33m,\u001b[0m \u001b[0mtest_start\u001b[0m\u001b[1;33m,\u001b[0m \u001b[0mtest_end\u001b[0m\u001b[1;33m,\u001b[0m \u001b[0mcell_type\u001b[0m\u001b[1;33m=\u001b[0m\u001b[1;34m'visual'\u001b[0m\u001b[1;33m)\u001b[0m\u001b[1;33m\u001b[0m\u001b[0m\n\u001b[0m\u001b[0;32m    138\u001b[0m             \u001b[0my_pred\u001b[0m \u001b[1;33m=\u001b[0m \u001b[0mclf\u001b[0m\u001b[1;33m.\u001b[0m\u001b[0mpredict\u001b[0m\u001b[1;33m(\u001b[0m\u001b[0mx_test\u001b[0m\u001b[1;33m.\u001b[0m\u001b[0mT\u001b[0m\u001b[1;33m)\u001b[0m\u001b[1;33m\u001b[0m\u001b[0m\n\u001b[0;32m    139\u001b[0m             \u001b[0maccuracy\u001b[0m \u001b[1;33m=\u001b[0m \u001b[0mnp\u001b[0m\u001b[1;33m.\u001b[0m\u001b[0mmean\u001b[0m\u001b[1;33m(\u001b[0m\u001b[0mnp\u001b[0m\u001b[1;33m.\u001b[0m\u001b[0mequal\u001b[0m\u001b[1;33m(\u001b[0m\u001b[0my_pred\u001b[0m\u001b[1;33m,\u001b[0m \u001b[0my_test\u001b[0m\u001b[1;33m)\u001b[0m\u001b[1;33m)\u001b[0m\u001b[1;33m\u001b[0m\u001b[0m\n",
      "\u001b[1;32m<ipython-input-7-80c7370b27c1>\u001b[0m in \u001b[0;36mdecoding_trial_processing\u001b[1;34m(cells, start, end, cell_type)\u001b[0m\n\u001b[0;32m     21\u001b[0m             \u001b[0mcell_spike_rates\u001b[0m\u001b[1;33m.\u001b[0m\u001b[0mappend\u001b[0m\u001b[1;33m(\u001b[0m\u001b[0mspike_rate\u001b[0m\u001b[1;33m)\u001b[0m\u001b[1;33m\u001b[0m\u001b[0m\n\u001b[0;32m     22\u001b[0m         \u001b[0mcell_spike_rates\u001b[0m \u001b[1;33m=\u001b[0m \u001b[0mnp\u001b[0m\u001b[1;33m.\u001b[0m\u001b[0mmatrix\u001b[0m\u001b[1;33m(\u001b[0m\u001b[0mcell_spike_rates\u001b[0m\u001b[1;33m)\u001b[0m\u001b[1;33m.\u001b[0m\u001b[0mT\u001b[0m\u001b[1;33m\u001b[0m\u001b[0m\n\u001b[1;32m---> 23\u001b[1;33m         \u001b[0mx\u001b[0m \u001b[1;33m=\u001b[0m \u001b[0mnp\u001b[0m\u001b[1;33m.\u001b[0m\u001b[0mappend\u001b[0m\u001b[1;33m(\u001b[0m\u001b[0mx\u001b[0m\u001b[1;33m,\u001b[0m \u001b[0mcell_spike_rates\u001b[0m\u001b[1;33m,\u001b[0m \u001b[0maxis\u001b[0m\u001b[1;33m=\u001b[0m\u001b[1;36m1\u001b[0m\u001b[1;33m)\u001b[0m\u001b[1;33m\u001b[0m\u001b[0m\n\u001b[0m\u001b[0;32m     24\u001b[0m     \u001b[0mx_scaled\u001b[0m \u001b[1;33m=\u001b[0m \u001b[0mpreprocessing\u001b[0m\u001b[1;33m.\u001b[0m\u001b[0mscale\u001b[0m\u001b[1;33m(\u001b[0m\u001b[0mx\u001b[0m\u001b[1;33m)\u001b[0m\u001b[1;33m\u001b[0m\u001b[0m\n\u001b[0;32m     25\u001b[0m     \u001b[0my\u001b[0m \u001b[1;33m=\u001b[0m \u001b[0mnp\u001b[0m\u001b[1;33m.\u001b[0m\u001b[0mempty\u001b[0m\u001b[1;33m(\u001b[0m\u001b[1;33m(\u001b[0m\u001b[1;36m1\u001b[0m\u001b[1;33m,\u001b[0m\u001b[1;36m0\u001b[0m\u001b[1;33m)\u001b[0m\u001b[1;33m)\u001b[0m\u001b[1;33m\u001b[0m\u001b[0m\n",
      "\u001b[1;32m~\\AppData\\Local\\Continuum\\anaconda3\\lib\\site-packages\\numpy\\lib\\function_base.py\u001b[0m in \u001b[0;36mappend\u001b[1;34m(arr, values, axis)\u001b[0m\n\u001b[0;32m   5164\u001b[0m         \u001b[0mvalues\u001b[0m \u001b[1;33m=\u001b[0m \u001b[0mravel\u001b[0m\u001b[1;33m(\u001b[0m\u001b[0mvalues\u001b[0m\u001b[1;33m)\u001b[0m\u001b[1;33m\u001b[0m\u001b[0m\n\u001b[0;32m   5165\u001b[0m         \u001b[0maxis\u001b[0m \u001b[1;33m=\u001b[0m \u001b[0marr\u001b[0m\u001b[1;33m.\u001b[0m\u001b[0mndim\u001b[0m\u001b[1;33m-\u001b[0m\u001b[1;36m1\u001b[0m\u001b[1;33m\u001b[0m\u001b[0m\n\u001b[1;32m-> 5166\u001b[1;33m     \u001b[1;32mreturn\u001b[0m \u001b[0mconcatenate\u001b[0m\u001b[1;33m(\u001b[0m\u001b[1;33m(\u001b[0m\u001b[0marr\u001b[0m\u001b[1;33m,\u001b[0m \u001b[0mvalues\u001b[0m\u001b[1;33m)\u001b[0m\u001b[1;33m,\u001b[0m \u001b[0maxis\u001b[0m\u001b[1;33m=\u001b[0m\u001b[0maxis\u001b[0m\u001b[1;33m)\u001b[0m\u001b[1;33m\u001b[0m\u001b[0m\n\u001b[0m",
      "\u001b[1;31mKeyboardInterrupt\u001b[0m: "
     ]
    }
   ],
   "source": [
    "accuracy_matrix = decoding_time_matrix(vs_cells, 500, 50)"
   ]
  },
  {
   "cell_type": "code",
   "execution_count": 21,
   "metadata": {},
   "outputs": [
    {
     "data": {
      "text/plain": [
       "array([[0.97, 0.95, 0.9 , ..., 0.23, 0.25, 0.2 ],\n",
       "       [0.96, 0.97, 0.93, ..., 0.23, 0.25, 0.19],\n",
       "       [0.91, 0.95, 0.96, ..., 0.22, 0.26, 0.25],\n",
       "       ...,\n",
       "       [0.18, 0.2 , 0.19, ..., 0.97, 0.93, 0.95],\n",
       "       [0.22, 0.2 , 0.21, ..., 0.95, 0.95, 0.97],\n",
       "       [0.21, 0.22, 0.17, ..., 0.89, 0.93, 0.97]])"
      ]
     },
     "execution_count": 21,
     "metadata": {},
     "output_type": "execute_result"
    }
   ],
   "source": [
    "accuracy_matrix"
   ]
  },
  {
   "cell_type": "code",
   "execution_count": 22,
   "metadata": {
    "scrolled": false
   },
   "outputs": [
    {
     "data": {
      "text/plain": [
       "<matplotlib.axes._subplots.AxesSubplot at 0x2885172af28>"
      ]
     },
     "execution_count": 22,
     "metadata": {},
     "output_type": "execute_result"
    },
    {
     "data": {
      "image/png": "[encoded data removed]",
      "text/plain": [
       "<Figure size 432x288 with 2 Axes>"
      ]
     },
     "metadata": {},
     "output_type": "display_data"
    }
   ],
   "source": [
    "sns.heatmap(accuracy_matrix)"
   ]
  },
  {
   "cell_type": "markdown",
   "metadata": {},
   "source": [
    "Using bin size of 500 and step size of 50 we can see the accuracy heatmap can be plotted above. The brighter the boxes, the higher the accuracy. Each box is size 50. From the heatmap we can see that starting from 800 milliseconds, we can use the classifier that trains on spike counts in a 500 time bin to accuratly decode most of the time bins after that. "
   ]
  },
  {
   "cell_type": "code",
   "execution_count": 23,
   "metadata": {
    "scrolled": false
   },
   "outputs": [
    {
     "data": {
      "text/plain": [
       "<matplotlib.axes._subplots.AxesSubplot at 0x28851a0fe48>"
      ]
     },
     "execution_count": 23,
     "metadata": {},
     "output_type": "execute_result"
    },
    {
     "data": {
      "image/png": "[encoded data removed]",
      "text/plain": [
       "<Figure size 432x288 with 2 Axes>"
      ]
     },
     "metadata": {},
     "output_type": "display_data"
    }
   ],
   "source": [
    "accuracy_bin_200 = decoding_time_matrix(vs_cells, 500, 200)\n",
    "sns.heatmap(accuracy_bin_200)"
   ]
  },
  {
   "cell_type": "markdown",
   "metadata": {},
   "source": [
    "Using a larger step size with 200 we can see a clearer picture of the heatmap. Showing the same result as the above."
   ]
  },
  {
   "cell_type": "markdown",
   "metadata": {},
   "source": [
    "### 3b. The VS decoding accuracy over time."
   ]
  },
  {
   "cell_type": "code",
   "execution_count": 54,
   "metadata": {
    "scrolled": false
   },
   "outputs": [],
   "source": [
    "accuracies_vs, x_plot_vs = decoding_over_time(vs_cells, 500, 50, 'visual', vs_decoding_model)"
   ]
  },
  {
   "cell_type": "code",
   "execution_count": 55,
   "metadata": {
    "scrolled": false
   },
   "outputs": [
    {
     "data": {
      "text/plain": [
       "[<matplotlib.lines.Line2D at 0x214e151a588>]"
      ]
     },
     "execution_count": 55,
     "metadata": {},
     "output_type": "execute_result"
    },
    {
     "data": {
      "image/png": "[encoded data removed]",
      "text/plain": [
       "<Figure size 432x288 with 1 Axes>"
      ]
     },
     "metadata": {},
     "output_type": "display_data"
    }
   ],
   "source": [
    "plt.plot(x_plot_vs, accuracies_vs)"
   ]
  },
  {
   "cell_type": "markdown",
   "metadata": {},
   "source": [
    "The analysis is done on a 500 millisecion time bin and step size of 50. From the above graph we can see that before 1000 milliseconds, where the baseline period is at, the decoding accuracy is around 50% which is just random. After 1000 millisecond the decoding accuracy increases dramatically and peak above 95% at around 1600 millisecond. The decoding accuracy remains above 60% until around 2700 milliseond. \n",
    "\n",
    "It makes sense because the VS cells are selected using the 1x5 Anova analysis based on the spike rates extracted from the 1200 to 2700 millisecond period."
   ]
  },
  {
   "cell_type": "code",
   "execution_count": 41,
   "metadata": {},
   "outputs": [],
   "source": [
    "accuracies_test, x_plot_test = decoding_over_time(vs_cells, 500, 50, 'visual', vs_decoding_simple_cv)"
   ]
  },
  {
   "cell_type": "code",
   "execution_count": 42,
   "metadata": {},
   "outputs": [
    {
     "data": {
      "text/plain": [
       "[<matplotlib.lines.Line2D at 0x214e13c9748>]"
      ]
     },
     "execution_count": 42,
     "metadata": {},
     "output_type": "execute_result"
    },
    {
     "data": {
      "image/png": "[encoded data removed]",
      "text/plain": [
       "<Figure size 432x288 with 1 Axes>"
      ]
     },
     "metadata": {},
     "output_type": "display_data"
    }
   ],
   "source": [
    "plt.plot(x_plot_test, accuracies_test)"
   ]
  },
  {
   "cell_type": "code",
   "execution_count": 40,
   "metadata": {
    "scrolled": false
   },
   "outputs": [
    {
     "name": "stdout",
     "output_type": "stream",
     "text": [
      "51\n",
      "49\n",
      "51\n",
      "49\n",
      "51\n",
      "49\n",
      "51\n",
      "49\n",
      "51\n",
      "49\n",
      "51\n",
      "49\n",
      "51\n",
      "49\n",
      "51\n",
      "49\n",
      "51\n",
      "49\n",
      "51\n",
      "49\n",
      "51\n",
      "49\n",
      "51\n",
      "49\n",
      "51\n",
      "49\n",
      "51\n",
      "49\n",
      "51\n",
      "49\n",
      "51\n",
      "49\n",
      "51\n",
      "49\n",
      "51\n",
      "49\n",
      "51\n",
      "49\n",
      "51\n",
      "49\n",
      "51\n",
      "49\n",
      "51\n",
      "49\n",
      "51\n",
      "49\n",
      "51\n",
      "49\n",
      "51\n",
      "49\n",
      "51\n",
      "49\n",
      "51\n",
      "49\n",
      "51\n",
      "49\n",
      "51\n",
      "49\n",
      "51\n",
      "49\n",
      "51\n",
      "49\n",
      "51\n",
      "49\n",
      "51\n",
      "49\n",
      "51\n",
      "49\n",
      "51\n",
      "49\n",
      "51\n",
      "49\n",
      "51\n",
      "49\n",
      "51\n",
      "49\n",
      "51\n",
      "49\n",
      "51\n",
      "49\n",
      "51\n",
      "49\n",
      "51\n",
      "49\n",
      "51\n",
      "49\n",
      "51\n",
      "49\n",
      "51\n",
      "49\n",
      "51\n",
      "49\n",
      "51\n",
      "49\n",
      "51\n",
      "49\n",
      "51\n",
      "49\n",
      "51\n",
      "49\n",
      "51\n",
      "49\n",
      "51\n",
      "49\n",
      "51\n",
      "49\n",
      "51\n",
      "49\n",
      "51\n",
      "49\n",
      "51\n",
      "49\n",
      "51\n",
      "49\n",
      "51\n",
      "49\n",
      "51\n",
      "49\n",
      "51\n",
      "49\n",
      "51\n",
      "49\n",
      "51\n",
      "49\n",
      "51\n",
      "49\n",
      "51\n",
      "49\n",
      "51\n",
      "49\n",
      "51\n",
      "49\n",
      "51\n",
      "49\n",
      "51\n",
      "49\n",
      "51\n",
      "49\n",
      "51\n",
      "49\n"
     ]
    }
   ],
   "source": [
    "accuracies_ms, x_plot_ms = decoding_over_time(ms_cells, 500, 50, 'memory', decoding_simple_cv)"
   ]
  },
  {
   "cell_type": "code",
   "execution_count": 36,
   "metadata": {},
   "outputs": [
    {
     "data": {
      "text/plain": [
       "[<matplotlib.lines.Line2D at 0x261ae4206a0>]"
      ]
     },
     "execution_count": 36,
     "metadata": {},
     "output_type": "execute_result"
    },
    {
     "data": {
      "image/png": "[encoded data removed]",
      "text/plain": [
       "<Figure size 432x288 with 1 Axes>"
      ]
     },
     "metadata": {},
     "output_type": "display_data"
    }
   ],
   "source": [
    "plt.plot(x_plot_ms, accuracies_ms)"
   ]
  },
  {
   "cell_type": "code",
   "execution_count": null,
   "metadata": {},
   "outputs": [],
   "source": []
  }
 ],
 "metadata": {
  "kernelspec": {
   "display_name": "Python 3",
   "language": "python",
   "name": "python3"
  },
  "language_info": {
   "codemirror_mode": {
    "name": "ipython",
    "version": 3
   },
   "file_extension": ".py",
   "mimetype": "text/x-python",
   "name": "python",
   "nbconvert_exporter": "python",
   "pygments_lexer": "ipython3",
   "version": "3.6.5"
  }
 },
 "nbformat": 4,
 "nbformat_minor": 2
}
